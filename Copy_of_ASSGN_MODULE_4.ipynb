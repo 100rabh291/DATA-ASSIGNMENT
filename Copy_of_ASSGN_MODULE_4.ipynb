{
  "nbformat": 4,
  "nbformat_minor": 0,
  "metadata": {
    "colab": {
      "provenance": [],
      "authorship_tag": "ABX9TyNpnVYlIo8dDF1n7abnrD+z",
      "include_colab_link": true
    },
    "kernelspec": {
      "name": "python3",
      "display_name": "Python 3"
    },
    "language_info": {
      "name": "python"
    }
  },
  "cells": [
    {
      "cell_type": "markdown",
      "metadata": {
        "id": "view-in-github",
        "colab_type": "text"
      },
      "source": [
        "<a href=\"https://colab.research.google.com/github/100rabh291/DATA-ASSIGNMENT/blob/main/Copy_of_ASSGN_MODULE_4.ipynb\" target=\"_parent\"><img src=\"https://colab.research.google.com/assets/colab-badge.svg\" alt=\"Open In Colab\"/></a>"
      ]
    },
    {
      "cell_type": "markdown",
      "source": [
        "Q1. EXPLAIN THE KEY FEATURES OF PYTHON THAT MAKES IT A POPULAR CHOICE?\n",
        "\n",
        "A1. FOLLOWING ARE THE FOREMOST REASON THAT MAKES PYTHON SO POPULAR\n",
        "\n",
        "1.IT HAS A WIDELY USE IN PROGRAMMING INDUSTRY.\n",
        "\n",
        "2.IT HAS WIDE USE IN DATA INDUSTRY.\n",
        "\n",
        "3.IT CONTAIN A VAST AND CONTINOUS GROWING ECOSYSTEM OF LIBRARIES (137000) THIS IS THE MOST IMPORTANT REASON OF ITS POPULARITY.\n",
        "\n",
        "4.IT CAN BE USED IN MULTIPLE DOMAINS LIKE FRONTEND, BACKEND,DATA ANALYSIS ETC.\n",
        "\n",
        "OTHER REASONS CAN BE AS FOLLOWS\n",
        "1. IT IS EASY TO LEARN.\n",
        "2. IT IS EASY TO READ.\n",
        "3. IT IS VERSATILE.\n",
        "4. IT HAS HUGE COMMUNITY OF ACTIVE USERS WHICH MAKES IT A POPULAR LANGUAGE."
      ],
      "metadata": {
        "id": "joc8fATh1xzy"
      }
    },
    {
      "cell_type": "markdown",
      "source": [
        "### Q2.DESCRIBE THE ROLE OF PREDEFINED KEYWORDS IN PYTHON AND PROVIDE EXAMPLE OF HOW THEY ARE USED IN A PROGRAM?"
      ],
      "metadata": {
        "id": "VRSUt4Vx5x_t"
      }
    },
    {
      "cell_type": "markdown",
      "source": [
        "### A2. KEYWORDS>> PYTHON KEYWORDS ARE SOME PREDEFINED OR RESERVED WORDS THAT HAVE SPECIAL MEANING AND CAN NOT BE USED AS IDENTIFIERS\n",
        "### THE KEYWORD CANNOT BE USED AS IDENTIFIERS LIKE VARIABLES, FUNCTIONS ETC.\n",
        "### THERE ARE 35 KEYWORDS IN PYTHON'''\n",
        "### THE MAIN ROLE OF KEYWORD IS TO DEFINE THE SYNTAX OF THE CODE.\n"
      ],
      "metadata": {
        "id": "pKtgw7XPKBKM"
      }
    },
    {
      "cell_type": "code",
      "source": [
        "help('keywords')"
      ],
      "metadata": {
        "colab": {
          "base_uri": "https://localhost:8080/"
        },
        "id": "guY7M6ekCJj5",
        "outputId": "3f3daba2-e159-47e7-9e96-62dcc8599df3"
      },
      "execution_count": null,
      "outputs": [
        {
          "output_type": "stream",
          "name": "stdout",
          "text": [
            "\n",
            "Here is a list of the Python keywords.  Enter any keyword to get more help.\n",
            "\n",
            "False               class               from                or\n",
            "None                continue            global              pass\n",
            "True                def                 if                  raise\n",
            "and                 del                 import              return\n",
            "as                  elif                in                  try\n",
            "assert              else                is                  while\n",
            "async               except              lambda              with\n",
            "await               finally             nonlocal            yield\n",
            "break               for                 not                 \n",
            "\n"
          ]
        }
      ]
    },
    {
      "cell_type": "code",
      "source": [
        "#BELOW ARE EXAMPLES OF HOW TO USE KEYWORDS\n",
        "\n",
        "# here is an example of (KEYWORD>>if) if is use to make conditional statement\n",
        "\n",
        "if 10>6:\n",
        "  print(\"greater\")\n"
      ],
      "metadata": {
        "colab": {
          "base_uri": "https://localhost:8080/"
        },
        "id": "i8arm5EbCYRp",
        "outputId": "f0c6df5c-6fa6-44ac-977d-932755038b1d"
      },
      "execution_count": null,
      "outputs": [
        {
          "output_type": "stream",
          "name": "stdout",
          "text": [
            "greater\n"
          ]
        }
      ]
    },
    {
      "cell_type": "code",
      "source": [
        "marks=25\n",
        "if marks>20:\n",
        "  print(\"execellent\")"
      ],
      "metadata": {
        "colab": {
          "base_uri": "https://localhost:8080/"
        },
        "id": "LimojhIhKHgs",
        "outputId": "cb3ed346-cddd-450b-fa6c-5d41f8d7b760"
      },
      "execution_count": null,
      "outputs": [
        {
          "output_type": "stream",
          "name": "stdout",
          "text": [
            "execellent\n"
          ]
        }
      ]
    },
    {
      "cell_type": "code",
      "source": [
        "#here is an example of (KEYWORD>>  in) IT IS USE TO CHECK WHETHER A VALUE IS PRESENT IN LIST OR RANGE\n",
        "\n",
        "A=[\"SAURABH\",1,4.5, \"DELHI\"]\n",
        "if \"SAURABH\" in A :\n",
        "  print (\"true\")\n"
      ],
      "metadata": {
        "colab": {
          "base_uri": "https://localhost:8080/"
        },
        "id": "u-4pRGnyFPVE",
        "outputId": "76458b74-9f12-4d4d-fd2e-632347e346b9"
      },
      "execution_count": null,
      "outputs": [
        {
          "output_type": "stream",
          "name": "stdout",
          "text": [
            "true\n"
          ]
        }
      ]
    },
    {
      "cell_type": "code",
      "source": [
        "#example of if and else keyword\n",
        "\n",
        "age=18\n",
        "if age>18:\n",
        "  print('ride')\n",
        "else:\n",
        "    print('dont ride')"
      ],
      "metadata": {
        "colab": {
          "base_uri": "https://localhost:8080/"
        },
        "id": "qNdh_HuvRsqZ",
        "outputId": "ae74899c-c393-43b1-f6e9-4856653607e6"
      },
      "execution_count": null,
      "outputs": [
        {
          "output_type": "stream",
          "name": "stdout",
          "text": [
            "dont ride\n"
          ]
        }
      ]
    },
    {
      "cell_type": "markdown",
      "source": [
        "## Q3. compare and contrast the mutable and immutable objects in python with examples?"
      ],
      "metadata": {
        "id": "rRokUEiIUk6K"
      }
    },
    {
      "cell_type": "markdown",
      "source": [
        "## A3. The main difference between mutable and immutable objects is that mutable objects can be altered after their creation and immutable objects can not be altered.\n",
        "## mutable means to edit or change\n",
        "## immutable means which we can not change"
      ],
      "metadata": {
        "id": "e9BY93jWQt8p"
      }
    },
    {
      "cell_type": "code",
      "source": [
        "#BELOW WE CAN UNDERSTAND THE DIFFERENCE B/W BOTH THE CONCEPTS\n",
        "\n",
        "#MUTABILITY\n",
        "a=[20,30,40,3.5,4+6j,\"delhi\"]\n",
        "a[0]"
      ],
      "metadata": {
        "colab": {
          "base_uri": "https://localhost:8080/"
        },
        "id": "qiT9ldYsTG8g",
        "outputId": "c9f7a05d-084d-4c66-931a-7968b890cf20"
      },
      "execution_count": null,
      "outputs": [
        {
          "output_type": "execute_result",
          "data": {
            "text/plain": [
              "20"
            ]
          },
          "metadata": {},
          "execution_count": 2
        }
      ]
    },
    {
      "cell_type": "code",
      "source": [
        "a[3]"
      ],
      "metadata": {
        "colab": {
          "base_uri": "https://localhost:8080/"
        },
        "id": "LOpIKRtlTxgZ",
        "outputId": "82a220fa-b42c-426a-cb4c-c43f98a47b1a"
      },
      "execution_count": null,
      "outputs": [
        {
          "output_type": "execute_result",
          "data": {
            "text/plain": [
              "3.5"
            ]
          },
          "metadata": {},
          "execution_count": 3
        }
      ]
    },
    {
      "cell_type": "code",
      "source": [
        "#here we change the assign vale of a[3]\n",
        "a[3]=4.5\n",
        "a"
      ],
      "metadata": {
        "colab": {
          "base_uri": "https://localhost:8080/"
        },
        "id": "IFMmDi_nUIgL",
        "outputId": "5d3a63a4-aadb-471c-d2ed-5ec3bc8aaab4"
      },
      "execution_count": null,
      "outputs": [
        {
          "output_type": "execute_result",
          "data": {
            "text/plain": [
              "[20, 30, 40, 4.5, (4+6j), 'delhi']"
            ]
          },
          "metadata": {},
          "execution_count": 4
        }
      ]
    },
    {
      "cell_type": "code",
      "source": [
        "#IMMUTABILITY\n",
        "b=\"saurabh\"\n",
        "b"
      ],
      "metadata": {
        "colab": {
          "base_uri": "https://localhost:8080/",
          "height": 35
        },
        "id": "0IekieafUnB_",
        "outputId": "a86387a5-c78c-42f5-ea22-d501bba031c4"
      },
      "execution_count": null,
      "outputs": [
        {
          "output_type": "execute_result",
          "data": {
            "text/plain": [
              "'saurabh'"
            ],
            "application/vnd.google.colaboratory.intrinsic+json": {
              "type": "string"
            }
          },
          "metadata": {},
          "execution_count": 6
        }
      ]
    },
    {
      "cell_type": "code",
      "source": [
        "b[1]"
      ],
      "metadata": {
        "colab": {
          "base_uri": "https://localhost:8080/",
          "height": 35
        },
        "id": "yELyPDbAVZin",
        "outputId": "f204f625-dc59-4d16-8c32-1c5caf3abdf2"
      },
      "execution_count": null,
      "outputs": [
        {
          "output_type": "execute_result",
          "data": {
            "text/plain": [
              "'a'"
            ],
            "application/vnd.google.colaboratory.intrinsic+json": {
              "type": "string"
            }
          },
          "metadata": {},
          "execution_count": 7
        }
      ]
    },
    {
      "cell_type": "code",
      "source": [
        "b[1]='o'# we can not change the 'str'\n",
        "b"
      ],
      "metadata": {
        "colab": {
          "base_uri": "https://localhost:8080/",
          "height": 159
        },
        "id": "OJPEPK0tVj0o",
        "outputId": "119d50cc-b6c9-4219-a073-27d9ad92fa15"
      },
      "execution_count": null,
      "outputs": [
        {
          "output_type": "error",
          "ename": "TypeError",
          "evalue": "'str' object does not support item assignment",
          "traceback": [
            "\u001b[0;31m---------------------------------------------------------------------------\u001b[0m",
            "\u001b[0;31mTypeError\u001b[0m                                 Traceback (most recent call last)",
            "\u001b[0;32m<ipython-input-9-0671c4295b16>\u001b[0m in \u001b[0;36m<cell line: 1>\u001b[0;34m()\u001b[0m\n\u001b[0;32m----> 1\u001b[0;31m \u001b[0mb\u001b[0m\u001b[0;34m[\u001b[0m\u001b[0;36m1\u001b[0m\u001b[0;34m]\u001b[0m\u001b[0;34m=\u001b[0m\u001b[0;34m'o'\u001b[0m\u001b[0;34m\u001b[0m\u001b[0;34m\u001b[0m\u001b[0m\n\u001b[0m\u001b[1;32m      2\u001b[0m \u001b[0mb\u001b[0m\u001b[0;34m\u001b[0m\u001b[0;34m\u001b[0m\u001b[0m\n",
            "\u001b[0;31mTypeError\u001b[0m: 'str' object does not support item assignment"
          ]
        }
      ]
    },
    {
      "cell_type": "markdown",
      "source": [
        "FROM THE ABOVE ILLUSTRATION WE CAN UNDERSTAND THAT LIST IS A TYPE OF MUTABLE OBJECT BECAUSE IT SUPPORT ITEM ASSIGNMENT WHILE STR IS IMMUTABLE BECAUSE IT DOES NOT SUPPORT ITEM ASSIGNMENT.\n",
        "\n",
        " HOWEVER IT IS VERY IMPORTANT TO KNOW WHILE WRITING A CODE WHICH OBJECT IS MUTABLE OR NOT SO THAT WHILE WRITING THE DATA OR CODE WE CAN CHANGE THE DATA OR NOT."
      ],
      "metadata": {
        "id": "xKXgo6sEWqHF"
      }
    },
    {
      "cell_type": "markdown",
      "source": [
        "## Q.4DISCUSS THE DIFFERENT TYPE OF OPERATORS IN PYTHON AND PROVIDE EXAMPLES OF HOW THEY ARE USED?"
      ],
      "metadata": {
        "id": "9v8TIzT_X0Jn"
      }
    },
    {
      "cell_type": "markdown",
      "source": [
        "#A.4 PYTHON OPERATORS>> These are special keywords or symbols which are use to perform operation on values or variables.\n",
        "# Because we want to manage, do computation and make decision using data.\n"
      ],
      "metadata": {
        "id": "j0uWHPSiHp8g"
      }
    },
    {
      "cell_type": "code",
      "source": [
        "# for example we want to add two numbers\n",
        "a=50\n",
        "b=30\n",
        "a+b # here (+) symbol is an operator which is helping us adding values\n"
      ],
      "metadata": {
        "colab": {
          "base_uri": "https://localhost:8080/"
        },
        "id": "rXA_r7VHJCZ3",
        "outputId": "fcab1274-27df-4eaa-fc65-b9c72f39d82a"
      },
      "execution_count": null,
      "outputs": [
        {
          "output_type": "execute_result",
          "data": {
            "text/plain": [
              "80"
            ]
          },
          "metadata": {},
          "execution_count": 1
        }
      ]
    },
    {
      "cell_type": "markdown",
      "source": [
        "# these are the categories of python operators\n",
        "\n",
        "![image.png](data:image/png;base64,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)"
      ],
      "metadata": {
        "id": "sG-hTvtxMxkF"
      }
    },
    {
      "cell_type": "code",
      "source": [
        "# airthmetic operators >> +, -, /, *, %\n",
        "a=50\n",
        "b=30\n",
        "a+b\n"
      ],
      "metadata": {
        "id": "f8IGP-OhJ29i",
        "colab": {
          "base_uri": "https://localhost:8080/"
        },
        "outputId": "b8eeaa5a-b9d5-4277-ca37-e3542228995a"
      },
      "execution_count": null,
      "outputs": [
        {
          "output_type": "execute_result",
          "data": {
            "text/plain": [
              "80"
            ]
          },
          "metadata": {},
          "execution_count": 2
        }
      ]
    },
    {
      "cell_type": "code",
      "source": [
        "a-b"
      ],
      "metadata": {
        "colab": {
          "base_uri": "https://localhost:8080/"
        },
        "id": "bI10ns_qOjV5",
        "outputId": "39476f80-b373-4a72-b59b-e0aa4816eb07"
      },
      "execution_count": null,
      "outputs": [
        {
          "output_type": "execute_result",
          "data": {
            "text/plain": [
              "20"
            ]
          },
          "metadata": {},
          "execution_count": 3
        }
      ]
    },
    {
      "cell_type": "code",
      "source": [
        "a*b"
      ],
      "metadata": {
        "colab": {
          "base_uri": "https://localhost:8080/"
        },
        "id": "jJv42crfOoZh",
        "outputId": "5a9e40ca-6752-44f8-9297-d3a8a7b1ccc7"
      },
      "execution_count": null,
      "outputs": [
        {
          "output_type": "execute_result",
          "data": {
            "text/plain": [
              "1500"
            ]
          },
          "metadata": {},
          "execution_count": 4
        }
      ]
    },
    {
      "cell_type": "code",
      "source": [
        "a/b"
      ],
      "metadata": {
        "colab": {
          "base_uri": "https://localhost:8080/"
        },
        "id": "LqaPgdYkOoJr",
        "outputId": "349fe2f4-6405-4ee3-ca52-efbbe2cca8c9"
      },
      "execution_count": null,
      "outputs": [
        {
          "output_type": "execute_result",
          "data": {
            "text/plain": [
              "1.6666666666666667"
            ]
          },
          "metadata": {},
          "execution_count": 5
        }
      ]
    },
    {
      "cell_type": "code",
      "source": [
        "# comparision operator>> this compares two values and returns boolean value\n",
        "5==5# here we use two times (==)"
      ],
      "metadata": {
        "colab": {
          "base_uri": "https://localhost:8080/"
        },
        "id": "ewIP5ISAOnrP",
        "outputId": "ea67939e-fc6a-4e1c-beb4-da5b9e1929d1"
      },
      "execution_count": null,
      "outputs": [
        {
          "output_type": "execute_result",
          "data": {
            "text/plain": [
              "True"
            ]
          },
          "metadata": {},
          "execution_count": 6
        }
      ]
    },
    {
      "cell_type": "code",
      "source": [
        "5!=5# this is not equals to"
      ],
      "metadata": {
        "colab": {
          "base_uri": "https://localhost:8080/"
        },
        "id": "mp-JSsOkQkUN",
        "outputId": "b52d32e4-d3c4-44d6-b96b-23141c371501"
      },
      "execution_count": null,
      "outputs": [
        {
          "output_type": "execute_result",
          "data": {
            "text/plain": [
              "False"
            ]
          },
          "metadata": {},
          "execution_count": 7
        }
      ]
    },
    {
      "cell_type": "code",
      "source": [
        "5>10"
      ],
      "metadata": {
        "colab": {
          "base_uri": "https://localhost:8080/"
        },
        "id": "oskHLKcwQlvu",
        "outputId": "0f2d10ad-b2c4-4dcc-895d-9a88af956353"
      },
      "execution_count": null,
      "outputs": [
        {
          "output_type": "execute_result",
          "data": {
            "text/plain": [
              "False"
            ]
          },
          "metadata": {},
          "execution_count": 8
        }
      ]
    },
    {
      "cell_type": "code",
      "source": [
        "5<=10"
      ],
      "metadata": {
        "colab": {
          "base_uri": "https://localhost:8080/"
        },
        "id": "vhGNDVmyQlr9",
        "outputId": "de8ab7df-83de-4bdf-8292-8a23f6adb0ac"
      },
      "execution_count": null,
      "outputs": [
        {
          "output_type": "execute_result",
          "data": {
            "text/plain": [
              "True"
            ]
          },
          "metadata": {},
          "execution_count": 9
        }
      ]
    },
    {
      "cell_type": "markdown",
      "source": [
        "logical operators\n",
        "\n",
        "two types AND,OR"
      ],
      "metadata": {
        "id": "rZdHQahnRaVW"
      }
    },
    {
      "cell_type": "code",
      "source": [
        "#AND\n",
        "True and True"
      ],
      "metadata": {
        "colab": {
          "base_uri": "https://localhost:8080/"
        },
        "id": "Fl0HIQqtRY1p",
        "outputId": "a5351b25-23b2-4a62-9980-f486ee5d3a3b"
      },
      "execution_count": null,
      "outputs": [
        {
          "output_type": "execute_result",
          "data": {
            "text/plain": [
              "True"
            ]
          },
          "metadata": {},
          "execution_count": 10
        }
      ]
    },
    {
      "cell_type": "code",
      "source": [
        "True and False"
      ],
      "metadata": {
        "colab": {
          "base_uri": "https://localhost:8080/"
        },
        "id": "CudH37B0Qlnc",
        "outputId": "bb8c6c1c-f703-418b-a764-0b56a983fc30"
      },
      "execution_count": null,
      "outputs": [
        {
          "output_type": "execute_result",
          "data": {
            "text/plain": [
              "False"
            ]
          },
          "metadata": {},
          "execution_count": 11
        }
      ]
    },
    {
      "cell_type": "code",
      "source": [
        "False and True"
      ],
      "metadata": {
        "colab": {
          "base_uri": "https://localhost:8080/"
        },
        "id": "kriBlGvjQljD",
        "outputId": "3f98637d-4be6-4fd3-8aa7-218239a955d8"
      },
      "execution_count": null,
      "outputs": [
        {
          "output_type": "execute_result",
          "data": {
            "text/plain": [
              "False"
            ]
          },
          "metadata": {},
          "execution_count": 12
        }
      ]
    },
    {
      "cell_type": "code",
      "source": [
        "False and False"
      ],
      "metadata": {
        "colab": {
          "base_uri": "https://localhost:8080/"
        },
        "id": "GzA9PSx8QlRa",
        "outputId": "39284eb3-7dbb-4ecb-b7e6-74ea972298be"
      },
      "execution_count": null,
      "outputs": [
        {
          "output_type": "execute_result",
          "data": {
            "text/plain": [
              "False"
            ]
          },
          "metadata": {},
          "execution_count": 13
        }
      ]
    },
    {
      "cell_type": "code",
      "source": [
        "# or operator\n",
        "True or True"
      ],
      "metadata": {
        "colab": {
          "base_uri": "https://localhost:8080/"
        },
        "id": "9tXGYFY8ZiNR",
        "outputId": "9dbf8445-c24f-4bdc-edb5-a4b5e14facbf"
      },
      "execution_count": null,
      "outputs": [
        {
          "output_type": "execute_result",
          "data": {
            "text/plain": [
              "True"
            ]
          },
          "metadata": {},
          "execution_count": 14
        }
      ]
    },
    {
      "cell_type": "code",
      "source": [
        "True or False"
      ],
      "metadata": {
        "colab": {
          "base_uri": "https://localhost:8080/"
        },
        "id": "s4689avyZiIG",
        "outputId": "bfd7edd6-ad9e-4717-d3ab-fbf186c1aeb8"
      },
      "execution_count": null,
      "outputs": [
        {
          "output_type": "execute_result",
          "data": {
            "text/plain": [
              "True"
            ]
          },
          "metadata": {},
          "execution_count": 15
        }
      ]
    },
    {
      "cell_type": "code",
      "source": [
        "False or True"
      ],
      "metadata": {
        "colab": {
          "base_uri": "https://localhost:8080/"
        },
        "id": "OfyRRfpYZiD6",
        "outputId": "4953f013-e739-4d1d-d48f-198e34cf61af"
      },
      "execution_count": null,
      "outputs": [
        {
          "output_type": "execute_result",
          "data": {
            "text/plain": [
              "True"
            ]
          },
          "metadata": {},
          "execution_count": 16
        }
      ]
    },
    {
      "cell_type": "code",
      "source": [
        "False or False"
      ],
      "metadata": {
        "colab": {
          "base_uri": "https://localhost:8080/"
        },
        "id": "7HN3kE21Zh--",
        "outputId": "dbbcdbff-5f4b-464d-ab8d-eb0916d3b33d"
      },
      "execution_count": null,
      "outputs": [
        {
          "output_type": "execute_result",
          "data": {
            "text/plain": [
              "False"
            ]
          },
          "metadata": {},
          "execution_count": 17
        }
      ]
    },
    {
      "cell_type": "code",
      "source": [
        "# assignment operator\n",
        "a=100\n",
        "a"
      ],
      "metadata": {
        "colab": {
          "base_uri": "https://localhost:8080/"
        },
        "id": "Ac5kJJCqaQl7",
        "outputId": "394841be-74bf-4b1b-e004-38b7daa44082"
      },
      "execution_count": null,
      "outputs": [
        {
          "output_type": "execute_result",
          "data": {
            "text/plain": [
              "100"
            ]
          },
          "metadata": {},
          "execution_count": 18
        }
      ]
    },
    {
      "cell_type": "code",
      "source": [
        "a+50"
      ],
      "metadata": {
        "colab": {
          "base_uri": "https://localhost:8080/"
        },
        "id": "gehIt874aQG1",
        "outputId": "56065731-d432-4b82-d707-3c06a879ec0c"
      },
      "execution_count": null,
      "outputs": [
        {
          "output_type": "execute_result",
          "data": {
            "text/plain": [
              "150"
            ]
          },
          "metadata": {},
          "execution_count": 19
        }
      ]
    },
    {
      "cell_type": "code",
      "source": [
        "b=60\n",
        "b+20"
      ],
      "metadata": {
        "colab": {
          "base_uri": "https://localhost:8080/"
        },
        "id": "FWJD28kVaQCA",
        "outputId": "274b08a9-03bc-4548-ce97-e22f58704da9"
      },
      "execution_count": null,
      "outputs": [
        {
          "output_type": "execute_result",
          "data": {
            "text/plain": [
              "80"
            ]
          },
          "metadata": {},
          "execution_count": 20
        }
      ]
    },
    {
      "cell_type": "code",
      "source": [
        "b"
      ],
      "metadata": {
        "colab": {
          "base_uri": "https://localhost:8080/"
        },
        "id": "PNfWwzc_aP9Z",
        "outputId": "edc01876-8d9d-4249-b92d-562230d76291"
      },
      "execution_count": null,
      "outputs": [
        {
          "output_type": "execute_result",
          "data": {
            "text/plain": [
              "60"
            ]
          },
          "metadata": {},
          "execution_count": 21
        }
      ]
    },
    {
      "cell_type": "code",
      "source": [
        "b=60\n",
        "b+=20"
      ],
      "metadata": {
        "id": "s1omASIVaP3z"
      },
      "execution_count": null,
      "outputs": []
    },
    {
      "cell_type": "code",
      "source": [
        "b"
      ],
      "metadata": {
        "colab": {
          "base_uri": "https://localhost:8080/"
        },
        "id": "k9z0Vh8lbacF",
        "outputId": "406b4af7-79dc-4b73-8b1a-dd52393a000c"
      },
      "execution_count": null,
      "outputs": [
        {
          "output_type": "execute_result",
          "data": {
            "text/plain": [
              "80"
            ]
          },
          "metadata": {},
          "execution_count": 26
        }
      ]
    },
    {
      "cell_type": "markdown",
      "source": [
        "#membership operator"
      ],
      "metadata": {
        "id": "pq48ux1Hbqaz"
      }
    },
    {
      "cell_type": "code",
      "source": [
        "a=\"delhi\"\n",
        "'d' in a"
      ],
      "metadata": {
        "colab": {
          "base_uri": "https://localhost:8080/"
        },
        "id": "u-ZKdCj1bw9a",
        "outputId": "58474cc5-20b7-4912-cd04-f44f160caa28"
      },
      "execution_count": null,
      "outputs": [
        {
          "output_type": "execute_result",
          "data": {
            "text/plain": [
              "True"
            ]
          },
          "metadata": {},
          "execution_count": 28
        }
      ]
    },
    {
      "cell_type": "code",
      "source": [
        "'d' not in a"
      ],
      "metadata": {
        "colab": {
          "base_uri": "https://localhost:8080/"
        },
        "id": "NEK2aYG-bw3x",
        "outputId": "76fae87c-ad40-4adb-9827-f46f135481aa"
      },
      "execution_count": null,
      "outputs": [
        {
          "output_type": "execute_result",
          "data": {
            "text/plain": [
              "False"
            ]
          },
          "metadata": {},
          "execution_count": 29
        }
      ]
    },
    {
      "cell_type": "code",
      "source": [
        "a=\"delhi\"\n",
        "'del'in a"
      ],
      "metadata": {
        "id": "xRyxTRZ7bwtJ",
        "colab": {
          "base_uri": "https://localhost:8080/"
        },
        "outputId": "83d6ce35-2051-4a15-941c-14ad8c9de44f"
      },
      "execution_count": null,
      "outputs": [
        {
          "output_type": "execute_result",
          "data": {
            "text/plain": [
              "True"
            ]
          },
          "metadata": {},
          "execution_count": 5
        }
      ]
    },
    {
      "cell_type": "markdown",
      "source": [
        "#identity operator\n",
        "# it compares the location of two variables in the memory"
      ],
      "metadata": {
        "id": "PYGdEUZiDzPr"
      }
    },
    {
      "cell_type": "code",
      "source": [
        "# example\n",
        "a=5\n",
        "b=6\n",
        "a is b"
      ],
      "metadata": {
        "id": "EI7dyI-AbwoM",
        "colab": {
          "base_uri": "https://localhost:8080/"
        },
        "outputId": "c18fd124-8a25-4d64-a47f-fc23ff82aeea"
      },
      "execution_count": null,
      "outputs": [
        {
          "output_type": "execute_result",
          "data": {
            "text/plain": [
              "False"
            ]
          },
          "metadata": {},
          "execution_count": 6
        }
      ]
    },
    {
      "cell_type": "code",
      "source": [
        "a is not b"
      ],
      "metadata": {
        "id": "EFLEIQ0Wbwjw",
        "colab": {
          "base_uri": "https://localhost:8080/"
        },
        "outputId": "55309b7b-745d-42e1-bb52-f868c04782a3"
      },
      "execution_count": null,
      "outputs": [
        {
          "output_type": "execute_result",
          "data": {
            "text/plain": [
              "True"
            ]
          },
          "metadata": {},
          "execution_count": 7
        }
      ]
    },
    {
      "cell_type": "markdown",
      "source": [
        "#bitwise operator ; it operates at a bit level"
      ],
      "metadata": {
        "id": "5qeyXwfeGWTl"
      }
    },
    {
      "cell_type": "code",
      "source": [
        "#example\n",
        "10&10"
      ],
      "metadata": {
        "id": "Os6PB9SRbwfY",
        "colab": {
          "base_uri": "https://localhost:8080/"
        },
        "outputId": "ed6e73aa-d971-4567-d569-8abe72072158"
      },
      "execution_count": null,
      "outputs": [
        {
          "output_type": "execute_result",
          "data": {
            "text/plain": [
              "10"
            ]
          },
          "metadata": {},
          "execution_count": 8
        }
      ]
    },
    {
      "cell_type": "code",
      "source": [
        "bin(10)"
      ],
      "metadata": {
        "id": "4uDzJkk3bwan",
        "colab": {
          "base_uri": "https://localhost:8080/",
          "height": 35
        },
        "outputId": "5a7a4f9e-1b12-4a05-f776-6c985548033c"
      },
      "execution_count": null,
      "outputs": [
        {
          "output_type": "execute_result",
          "data": {
            "text/plain": [
              "'0b1010'"
            ],
            "application/vnd.google.colaboratory.intrinsic+json": {
              "type": "string"
            }
          },
          "metadata": {},
          "execution_count": 9
        }
      ]
    },
    {
      "cell_type": "code",
      "source": [
        "3|5"
      ],
      "metadata": {
        "id": "7tkLoa1ybv4D",
        "colab": {
          "base_uri": "https://localhost:8080/"
        },
        "outputId": "5a67d2f7-2f8c-4692-86c4-491c7cd2286a"
      },
      "execution_count": null,
      "outputs": [
        {
          "output_type": "execute_result",
          "data": {
            "text/plain": [
              "7"
            ]
          },
          "metadata": {},
          "execution_count": 10
        }
      ]
    },
    {
      "cell_type": "code",
      "source": [
        "bin(3)"
      ],
      "metadata": {
        "id": "TKSoj2NEbvzj",
        "colab": {
          "base_uri": "https://localhost:8080/",
          "height": 35
        },
        "outputId": "d1e06424-9dd5-4924-b60d-64c914c6ae0b"
      },
      "execution_count": null,
      "outputs": [
        {
          "output_type": "execute_result",
          "data": {
            "text/plain": [
              "'0b11'"
            ],
            "application/vnd.google.colaboratory.intrinsic+json": {
              "type": "string"
            }
          },
          "metadata": {},
          "execution_count": 11
        }
      ]
    },
    {
      "cell_type": "code",
      "source": [
        "bin(5)"
      ],
      "metadata": {
        "id": "bzGYJLTHbvvE",
        "colab": {
          "base_uri": "https://localhost:8080/",
          "height": 35
        },
        "outputId": "b38eff74-c81c-4855-9278-84eb0548b86b"
      },
      "execution_count": null,
      "outputs": [
        {
          "output_type": "execute_result",
          "data": {
            "text/plain": [
              "'0b101'"
            ],
            "application/vnd.google.colaboratory.intrinsic+json": {
              "type": "string"
            }
          },
          "metadata": {},
          "execution_count": 12
        }
      ]
    },
    {
      "cell_type": "code",
      "source": [
        "bin(7)"
      ],
      "metadata": {
        "id": "KJrUt5fqbvp6",
        "colab": {
          "base_uri": "https://localhost:8080/",
          "height": 35
        },
        "outputId": "fd9f1dca-a29d-41c2-8f8a-cd46e70dbd04"
      },
      "execution_count": null,
      "outputs": [
        {
          "output_type": "execute_result",
          "data": {
            "text/plain": [
              "'0b111'"
            ],
            "application/vnd.google.colaboratory.intrinsic+json": {
              "type": "string"
            }
          },
          "metadata": {},
          "execution_count": 13
        }
      ]
    },
    {
      "cell_type": "code",
      "source": [
        "#negation\n",
        "~5"
      ],
      "metadata": {
        "colab": {
          "base_uri": "https://localhost:8080/"
        },
        "id": "rY59pPfDNFhx",
        "outputId": "d7fbc94f-9ea9-472f-9e9c-0f79ac8ecf62"
      },
      "execution_count": null,
      "outputs": [
        {
          "output_type": "execute_result",
          "data": {
            "text/plain": [
              "-6"
            ]
          },
          "metadata": {},
          "execution_count": 14
        }
      ]
    },
    {
      "cell_type": "code",
      "source": [
        "#bitwise xor operator"
      ],
      "metadata": {
        "id": "Q1CxbCQrNFc1"
      },
      "execution_count": null,
      "outputs": []
    },
    {
      "cell_type": "code",
      "source": [
        "5^3"
      ],
      "metadata": {
        "colab": {
          "base_uri": "https://localhost:8080/"
        },
        "id": "rT4bMY-5NFUm",
        "outputId": "9edb78c7-0dda-4784-a296-8f3c76bae781"
      },
      "execution_count": null,
      "outputs": [
        {
          "output_type": "execute_result",
          "data": {
            "text/plain": [
              "6"
            ]
          },
          "metadata": {},
          "execution_count": 17
        }
      ]
    },
    {
      "cell_type": "code",
      "source": [
        "bin(5)"
      ],
      "metadata": {
        "colab": {
          "base_uri": "https://localhost:8080/",
          "height": 35
        },
        "id": "IbNnhbZPNFPs",
        "outputId": "bbbfc67e-80ad-4871-c631-f82b8abc08a5"
      },
      "execution_count": null,
      "outputs": [
        {
          "output_type": "execute_result",
          "data": {
            "text/plain": [
              "'0b101'"
            ],
            "application/vnd.google.colaboratory.intrinsic+json": {
              "type": "string"
            }
          },
          "metadata": {},
          "execution_count": 18
        }
      ]
    },
    {
      "cell_type": "code",
      "source": [
        "bin(3)"
      ],
      "metadata": {
        "colab": {
          "base_uri": "https://localhost:8080/",
          "height": 35
        },
        "id": "1_kYu_dtNFJa",
        "outputId": "1ec87f79-270c-43aa-fabf-f5da742e145e"
      },
      "execution_count": null,
      "outputs": [
        {
          "output_type": "execute_result",
          "data": {
            "text/plain": [
              "'0b11'"
            ],
            "application/vnd.google.colaboratory.intrinsic+json": {
              "type": "string"
            }
          },
          "metadata": {},
          "execution_count": 19
        }
      ]
    },
    {
      "cell_type": "code",
      "source": [
        "bin(6)"
      ],
      "metadata": {
        "colab": {
          "base_uri": "https://localhost:8080/",
          "height": 35
        },
        "id": "17IJwoouPGTd",
        "outputId": "89629d7e-ff74-47c7-c6cc-a9e58c1c207d"
      },
      "execution_count": null,
      "outputs": [
        {
          "output_type": "execute_result",
          "data": {
            "text/plain": [
              "'0b110'"
            ],
            "application/vnd.google.colaboratory.intrinsic+json": {
              "type": "string"
            }
          },
          "metadata": {},
          "execution_count": 20
        }
      ]
    },
    {
      "cell_type": "markdown",
      "source": [
        "#shift operator>> two types left shift and right shift\n",
        "# It shift the bits by left or right by a specified number of position by filling the zeros."
      ],
      "metadata": {
        "id": "7MV0C331PaYS"
      }
    },
    {
      "cell_type": "code",
      "source": [
        "#example left shift\n",
        "35<<5"
      ],
      "metadata": {
        "colab": {
          "base_uri": "https://localhost:8080/"
        },
        "id": "GM1VAAo_PGOs",
        "outputId": "19b28d8b-65ba-4617-db62-c1e6b00aa03d"
      },
      "execution_count": null,
      "outputs": [
        {
          "output_type": "execute_result",
          "data": {
            "text/plain": [
              "1120"
            ]
          },
          "metadata": {},
          "execution_count": 21
        }
      ]
    },
    {
      "cell_type": "code",
      "source": [
        "bin(35)"
      ],
      "metadata": {
        "colab": {
          "base_uri": "https://localhost:8080/",
          "height": 35
        },
        "id": "E1f9txGhPGJ6",
        "outputId": "62d1f1c3-3091-46d1-aa08-0d7f64887b41"
      },
      "execution_count": null,
      "outputs": [
        {
          "output_type": "execute_result",
          "data": {
            "text/plain": [
              "'0b100011'"
            ],
            "application/vnd.google.colaboratory.intrinsic+json": {
              "type": "string"
            }
          },
          "metadata": {},
          "execution_count": 22
        }
      ]
    },
    {
      "cell_type": "code",
      "source": [
        "bin(1120)"
      ],
      "metadata": {
        "colab": {
          "base_uri": "https://localhost:8080/",
          "height": 35
        },
        "id": "V6kUzBWiPGEK",
        "outputId": "1266dbfe-077c-4253-d479-630736bd293c"
      },
      "execution_count": null,
      "outputs": [
        {
          "output_type": "execute_result",
          "data": {
            "text/plain": [
              "'0b10001100000'"
            ],
            "application/vnd.google.colaboratory.intrinsic+json": {
              "type": "string"
            }
          },
          "metadata": {},
          "execution_count": 23
        }
      ]
    },
    {
      "cell_type": "code",
      "source": [
        "#example right shift\n",
        "20>>2"
      ],
      "metadata": {
        "colab": {
          "base_uri": "https://localhost:8080/"
        },
        "id": "NLZdkhCRQ1sk",
        "outputId": "343548f2-5a33-4959-b5ed-4c972d48eafc"
      },
      "execution_count": null,
      "outputs": [
        {
          "output_type": "execute_result",
          "data": {
            "text/plain": [
              "5"
            ]
          },
          "metadata": {},
          "execution_count": 24
        }
      ]
    },
    {
      "cell_type": "code",
      "source": [
        "bin(20)"
      ],
      "metadata": {
        "colab": {
          "base_uri": "https://localhost:8080/",
          "height": 35
        },
        "id": "WWoWKz-SQ1nj",
        "outputId": "5e2e8977-0748-4ea5-8f1b-5d905e13c65b"
      },
      "execution_count": null,
      "outputs": [
        {
          "output_type": "execute_result",
          "data": {
            "text/plain": [
              "'0b10100'"
            ],
            "application/vnd.google.colaboratory.intrinsic+json": {
              "type": "string"
            }
          },
          "metadata": {},
          "execution_count": 25
        }
      ]
    },
    {
      "cell_type": "code",
      "source": [
        "bin(5)"
      ],
      "metadata": {
        "colab": {
          "base_uri": "https://localhost:8080/",
          "height": 35
        },
        "id": "Ubj_wU3eQ1iK",
        "outputId": "71fd7477-a370-4d32-cd51-045db45f5cb8"
      },
      "execution_count": null,
      "outputs": [
        {
          "output_type": "execute_result",
          "data": {
            "text/plain": [
              "'0b101'"
            ],
            "application/vnd.google.colaboratory.intrinsic+json": {
              "type": "string"
            }
          },
          "metadata": {},
          "execution_count": 26
        }
      ]
    },
    {
      "cell_type": "markdown",
      "source": [
        "## Q7.DESCRIBE DIFFERENT TYPES OF LOOPS IN PYTHON AND THEIR USE CASES WITH EXAMPLES?"
      ],
      "metadata": {
        "id": "Be2HWFI_voB9"
      }
    },
    {
      "cell_type": "markdown",
      "source": [
        "#loop statement is which allows you to execute block of code repeatedly\n",
        "#loops are of two types\n",
        "#while loop\n",
        "#for loop"
      ],
      "metadata": {
        "id": "NJyhH19OlTeu"
      }
    },
    {
      "cell_type": "code",
      "source": [
        "#example while loop\n",
        "n=9\n",
        "i=1\n",
        "while i<n:\n",
        "  print(i)\n",
        "  i=i+1"
      ],
      "metadata": {
        "colab": {
          "base_uri": "https://localhost:8080/"
        },
        "id": "k1O80yH3wlHR",
        "outputId": "afb3dcd4-cf59-4f49-8f11-575c117e94b0"
      },
      "execution_count": null,
      "outputs": [
        {
          "output_type": "stream",
          "name": "stdout",
          "text": [
            "1\n",
            "2\n",
            "3\n",
            "4\n",
            "5\n",
            "6\n",
            "7\n",
            "8\n"
          ]
        }
      ]
    },
    {
      "cell_type": "code",
      "source": [
        "n=5\n",
        "i=2\n",
        "while i<n:\n",
        "  print(i)\n",
        "  i=i+1"
      ],
      "metadata": {
        "colab": {
          "base_uri": "https://localhost:8080/"
        },
        "id": "08cp2xwpx0ZG",
        "outputId": "5d87387f-24d1-457e-8fe8-1ea9b03a6fd2"
      },
      "execution_count": null,
      "outputs": [
        {
          "output_type": "stream",
          "name": "stdout",
          "text": [
            "2\n",
            "3\n",
            "4\n"
          ]
        }
      ]
    },
    {
      "cell_type": "markdown",
      "source": [
        "BELOW IS THE TEST CONDITION OF WHILE LOOP"
      ],
      "metadata": {
        "id": "l4KXGw-V1Wwc"
      }
    },
    {
      "cell_type": "markdown",
      "source": [
        "![image.png](data:image/png;base64,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)"
      ],
      "metadata": {
        "id": "igGXLT0e0DRa"
      }
    },
    {
      "cell_type": "code",
      "source": [
        "# WHILE LOOP WITH ELSE\n",
        "n=9\n",
        "i=1\n",
        "while i<n:\n",
        "  print(i)\n",
        "  i=i+1\n",
        "else:\n",
        "  print(\"loop executed successfully\")"
      ],
      "metadata": {
        "colab": {
          "base_uri": "https://localhost:8080/"
        },
        "id": "Vjg4kA7-yH6E",
        "outputId": "d85488ae-62ac-4cb1-f872-5adeb8fed846"
      },
      "execution_count": null,
      "outputs": [
        {
          "output_type": "stream",
          "name": "stdout",
          "text": [
            "1\n",
            "2\n",
            "3\n",
            "4\n",
            "5\n",
            "6\n",
            "7\n",
            "8\n",
            "loop executed successfully\n"
          ]
        }
      ]
    },
    {
      "cell_type": "code",
      "source": [
        "##break statement\n",
        "n=9\n",
        "i=1\n",
        "while i<n:\n",
        "  print(i)\n",
        "  i=i+1\n",
        "  if i==5:# break statement exits the loop\n",
        "    break\n",
        "else:\n",
        "  print(\"loop executed successfully\")"
      ],
      "metadata": {
        "colab": {
          "base_uri": "https://localhost:8080/"
        },
        "id": "YnU918743wNd",
        "outputId": "86ffa42f-374a-4135-e0ef-23cad663756c"
      },
      "execution_count": null,
      "outputs": [
        {
          "output_type": "stream",
          "name": "stdout",
          "text": [
            "1\n",
            "2\n",
            "3\n",
            "4\n"
          ]
        }
      ]
    },
    {
      "cell_type": "code",
      "source": [
        "## continue statement\n",
        "n=9\n",
        "i=1\n",
        "while i<n:\n",
        "  i=i+1\n",
        "  if i==4:\n",
        "    continue # continue >> skips the iteration\n",
        "  print(i)\n",
        "else:\n",
        "  print(\"loop executed successfully\")\n"
      ],
      "metadata": {
        "colab": {
          "base_uri": "https://localhost:8080/"
        },
        "id": "lEIPHT8L5S7-",
        "outputId": "858c7326-798a-46c2-805c-8915df042a5d"
      },
      "execution_count": null,
      "outputs": [
        {
          "output_type": "stream",
          "name": "stdout",
          "text": [
            "2\n",
            "3\n",
            "5\n",
            "6\n",
            "7\n",
            "8\n",
            "9\n",
            "loop executed successfully\n"
          ]
        }
      ]
    },
    {
      "cell_type": "markdown",
      "source": [
        "**FOR LOOP== IT IS USED TO ITERATE OVER A SEQUENCE OF ELEMENTS**"
      ],
      "metadata": {
        "id": "XcIQK_pJ8fuI"
      }
    },
    {
      "cell_type": "code",
      "source": [
        "# FOR LOOP\n",
        "for i in 'saurabh':\n",
        "  print(i)"
      ],
      "metadata": {
        "colab": {
          "base_uri": "https://localhost:8080/"
        },
        "id": "p1b9qXP97sNH",
        "outputId": "0242b72a-1baa-4853-f1e6-1cdbee568359"
      },
      "execution_count": null,
      "outputs": [
        {
          "output_type": "stream",
          "name": "stdout",
          "text": [
            "s\n",
            "a\n",
            "u\n",
            "r\n",
            "a\n",
            "b\n",
            "h\n"
          ]
        }
      ]
    },
    {
      "cell_type": "code",
      "source": [
        "a='saurabh'\n",
        "for i in a:\n",
        "  print(i)"
      ],
      "metadata": {
        "colab": {
          "base_uri": "https://localhost:8080/"
        },
        "id": "Ib9mzC2cD3Vu",
        "outputId": "bf07bdf0-d9e3-45fa-86d8-9b1c5742ee36"
      },
      "execution_count": null,
      "outputs": [
        {
          "output_type": "stream",
          "name": "stdout",
          "text": [
            "s\n",
            "a\n",
            "u\n",
            "r\n",
            "a\n",
            "b\n",
            "h\n"
          ]
        }
      ]
    },
    {
      "cell_type": "markdown",
      "source": [
        "# below is the test condition of FOR LOOP"
      ],
      "metadata": {
        "id": "2oRxd7bhRPHa"
      }
    },
    {
      "cell_type": "markdown",
      "source": [
        "![image.png](data:image/png;base64,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)"
      ],
      "metadata": {
        "id": "Cqvdfo_HREEg"
      }
    },
    {
      "cell_type": "code",
      "source": [
        "#ELSE block\n",
        "l=[2,4,5,'saurabh','data analytics']\n",
        "for i in l:\n",
        "  print(i)\n",
        "else:\n",
        "  print('this will execute when for loop ends without break')"
      ],
      "metadata": {
        "id": "sfhIe4lTEwN8",
        "colab": {
          "base_uri": "https://localhost:8080/"
        },
        "outputId": "8dd7eadb-aa75-4809-b70e-3ff877839347"
      },
      "execution_count": null,
      "outputs": [
        {
          "output_type": "stream",
          "name": "stdout",
          "text": [
            "2\n",
            "4\n",
            "5\n",
            "saurabh\n",
            "data analytics\n",
            "this will execute when for loop ends without break\n"
          ]
        }
      ]
    },
    {
      "cell_type": "code",
      "source": [
        "#break in for loop\n",
        "l=[2,4,5,'saurabh','data analytics']\n",
        "for i in l:\n",
        "  if i==5:\n",
        "    break\n",
        "  print(i)\n",
        "else:\n",
        "  print('this will execute when for loop ends without break')"
      ],
      "metadata": {
        "colab": {
          "base_uri": "https://localhost:8080/"
        },
        "id": "014xrUmdSyVC",
        "outputId": "83d94ee1-a13e-47c7-9e98-57b074b81df7"
      },
      "execution_count": null,
      "outputs": [
        {
          "output_type": "stream",
          "name": "stdout",
          "text": [
            "2\n",
            "4\n"
          ]
        }
      ]
    },
    {
      "cell_type": "markdown",
      "source": [
        "#Q5.EXPLAIN THE CONCEPT OF TYPECASTING IN PYTHON WITH EXAMPLES ?"
      ],
      "metadata": {
        "id": "yeR5gBFtWB5u"
      }
    },
    {
      "cell_type": "markdown",
      "source": [
        "#A5. TYPE CASTING - THE PROCESS OF CHANGING A DATATYPE OF A VARIABLE OR OBJECT IN PYTHON IS CALLED AS TYPECASTING OR TYPECONVERSION.\n",
        "#IT IS IMPORTANT BECAUSE SOMETIMES WHILE EXECUTING OR COMPUTATION WITH OPERATORS,THERE CAN BE A MISMATCH BETWEEN DATATYPES"
      ],
      "metadata": {
        "id": "kqvH3eVtWbkX"
      }
    },
    {
      "cell_type": "code",
      "source": [
        "# HERE IS THE EXAMPLE OF TYPECASTING\n",
        "4+5"
      ],
      "metadata": {
        "colab": {
          "base_uri": "https://localhost:8080/"
        },
        "id": "ZXREg-6UWR3C",
        "outputId": "5d511c2b-4909-42ff-c91a-4d5f15551bb8"
      },
      "execution_count": null,
      "outputs": [
        {
          "output_type": "execute_result",
          "data": {
            "text/plain": [
              "9"
            ]
          },
          "metadata": {},
          "execution_count": 1
        }
      ]
    },
    {
      "cell_type": "code",
      "source": [
        "a='saurabh'\n",
        "type(a)"
      ],
      "metadata": {
        "colab": {
          "base_uri": "https://localhost:8080/"
        },
        "id": "3v1TVEXVYCuY",
        "outputId": "b64c69cd-8579-4861-d317-1061d94e37ac"
      },
      "execution_count": null,
      "outputs": [
        {
          "output_type": "execute_result",
          "data": {
            "text/plain": [
              "str"
            ]
          },
          "metadata": {},
          "execution_count": 2
        }
      ]
    },
    {
      "cell_type": "code",
      "source": [
        "'2'+5 # here type of '2' is str thats why it is not executing"
      ],
      "metadata": {
        "colab": {
          "base_uri": "https://localhost:8080/",
          "height": 141
        },
        "id": "q6n9f2XpYV2V",
        "outputId": "19d79ffa-2c6f-4ea6-aa33-f5cb12bbb5d4"
      },
      "execution_count": null,
      "outputs": [
        {
          "output_type": "error",
          "ename": "TypeError",
          "evalue": "can only concatenate str (not \"int\") to str",
          "traceback": [
            "\u001b[0;31m---------------------------------------------------------------------------\u001b[0m",
            "\u001b[0;31mTypeError\u001b[0m                                 Traceback (most recent call last)",
            "\u001b[0;32m<ipython-input-3-353d714f42c2>\u001b[0m in \u001b[0;36m<cell line: 1>\u001b[0;34m()\u001b[0m\n\u001b[0;32m----> 1\u001b[0;31m \u001b[0;34m'2'\u001b[0m\u001b[0;34m+\u001b[0m\u001b[0;36m5\u001b[0m\u001b[0;34m\u001b[0m\u001b[0;34m\u001b[0m\u001b[0m\n\u001b[0m",
            "\u001b[0;31mTypeError\u001b[0m: can only concatenate str (not \"int\") to str"
          ]
        }
      ]
    },
    {
      "cell_type": "code",
      "source": [
        "# now we can change the type of '2' by using typecasting\n",
        "a='2'\n",
        "b=5\n",
        "a+b"
      ],
      "metadata": {
        "colab": {
          "base_uri": "https://localhost:8080/",
          "height": 176
        },
        "id": "YgO596V5Yeg7",
        "outputId": "38d696d1-d757-4168-8d23-d54bfa5d0985"
      },
      "execution_count": null,
      "outputs": [
        {
          "output_type": "error",
          "ename": "TypeError",
          "evalue": "can only concatenate str (not \"int\") to str",
          "traceback": [
            "\u001b[0;31m---------------------------------------------------------------------------\u001b[0m",
            "\u001b[0;31mTypeError\u001b[0m                                 Traceback (most recent call last)",
            "\u001b[0;32m<ipython-input-6-9dd437232c8e>\u001b[0m in \u001b[0;36m<cell line: 4>\u001b[0;34m()\u001b[0m\n\u001b[1;32m      2\u001b[0m \u001b[0ma\u001b[0m\u001b[0;34m=\u001b[0m\u001b[0;34m'2'\u001b[0m\u001b[0;34m\u001b[0m\u001b[0;34m\u001b[0m\u001b[0m\n\u001b[1;32m      3\u001b[0m \u001b[0mb\u001b[0m\u001b[0;34m=\u001b[0m\u001b[0;36m5\u001b[0m\u001b[0;34m\u001b[0m\u001b[0;34m\u001b[0m\u001b[0m\n\u001b[0;32m----> 4\u001b[0;31m \u001b[0ma\u001b[0m\u001b[0;34m+\u001b[0m\u001b[0mb\u001b[0m\u001b[0;34m\u001b[0m\u001b[0;34m\u001b[0m\u001b[0m\n\u001b[0m",
            "\u001b[0;31mTypeError\u001b[0m: can only concatenate str (not \"int\") to str"
          ]
        }
      ]
    },
    {
      "cell_type": "code",
      "source": [
        "type(a)"
      ],
      "metadata": {
        "colab": {
          "base_uri": "https://localhost:8080/"
        },
        "id": "5oePLELVaJQc",
        "outputId": "ac112a1a-e8a8-4e4b-a2b7-52319558100f"
      },
      "execution_count": null,
      "outputs": [
        {
          "output_type": "execute_result",
          "data": {
            "text/plain": [
              "str"
            ]
          },
          "metadata": {},
          "execution_count": 9
        }
      ]
    },
    {
      "cell_type": "code",
      "source": [
        "int(a)+b# here we change the str '2' to integer by using the concept of type casting"
      ],
      "metadata": {
        "colab": {
          "base_uri": "https://localhost:8080/"
        },
        "id": "9W3n1Cg4ao-B",
        "outputId": "8df2c640-db7e-47c0-ae14-053e4770f571"
      },
      "execution_count": null,
      "outputs": [
        {
          "output_type": "execute_result",
          "data": {
            "text/plain": [
              "7"
            ]
          },
          "metadata": {},
          "execution_count": 11
        }
      ]
    },
    {
      "cell_type": "code",
      "source": [
        "#string to integer\n",
        "a='2'\n",
        "print(type(a))\n",
        "print(type(int(a)))"
      ],
      "metadata": {
        "colab": {
          "base_uri": "https://localhost:8080/"
        },
        "id": "5Q6s3nTaa-fU",
        "outputId": "33f25bfc-b73f-48e7-f806-8a3885117e66"
      },
      "execution_count": null,
      "outputs": [
        {
          "output_type": "stream",
          "name": "stdout",
          "text": [
            "<class 'str'>\n",
            "<class 'int'>\n"
          ]
        }
      ]
    },
    {
      "cell_type": "markdown",
      "source": [
        "#AS SHOWN ABOVE THE EXAMPLE OF TYPECASTING, SIMILARLY IT CAN BE USE FOR FLOAT TO INT OR INTEGER TO FLOAT VARIABLES."
      ],
      "metadata": {
        "id": "6dNcIl_BcEW7"
      }
    },
    {
      "cell_type": "markdown",
      "source": [
        "#Q6 HOW DO CONDITIONAL STATEMENT WORK IN PYTHON? ILLUSTRATE WITH EXAMPLES.\n"
      ],
      "metadata": {
        "id": "nJ0RoNigfyGY"
      }
    },
    {
      "cell_type": "markdown",
      "source": [
        "#A6. CONDITINAL STATEMENTS - CONDITIONAL STATEMENT IS A PART OF FLOW CONTROL MECHANISM.\n",
        "#IT HELPS US TO CODE DECISIONS BASED ON SOME PRECONDITION.\n",
        "#IF\n",
        "#IF ELSE\n",
        "#IF ELIF ELSE\n",
        "#NESTED IF ELSE\n",
        "#THESE ARE THE EXAMPLES OF CONDITIONAL STATEMENTS"
      ],
      "metadata": {
        "id": "5pfaNqnXm_QO"
      }
    },
    {
      "cell_type": "code",
      "source": [
        "# LET SEE THE USE OF THEM\n",
        "# if statements\n",
        "#if condition is true:\n",
        "  #print this block of code\n",
        "\n",
        "\n"
      ],
      "metadata": {
        "id": "MloWIKlZb_iU"
      },
      "execution_count": null,
      "outputs": []
    },
    {
      "cell_type": "code",
      "source": [
        "marks= 90\n",
        "if marks>80:\n",
        "  print('you are execellent')"
      ],
      "metadata": {
        "colab": {
          "base_uri": "https://localhost:8080/"
        },
        "id": "YmA1Q9qVpjJJ",
        "outputId": "4513d738-acce-4fdd-d694-138aec2b8a6a"
      },
      "execution_count": null,
      "outputs": [
        {
          "output_type": "stream",
          "name": "stdout",
          "text": [
            "you are execellent\n"
          ]
        }
      ]
    },
    {
      "cell_type": "markdown",
      "source": [
        "![image.png](data:image/png;base64,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)"
      ],
      "metadata": {
        "id": "PCcgeEInnvM9"
      }
    },
    {
      "cell_type": "code",
      "source": [
        "# in practical world, multiple conditions exist\n",
        "# use of if else\n",
        "marks= 90\n",
        "co_curr= True\n",
        "if(marks>80 and co_curr==True):\n",
        "  print('you are execellent')"
      ],
      "metadata": {
        "colab": {
          "base_uri": "https://localhost:8080/"
        },
        "id": "ll5P4UyNvNxu",
        "outputId": "4c8370b1-6d76-4df9-8796-0ec1513e4309"
      },
      "execution_count": null,
      "outputs": [
        {
          "output_type": "stream",
          "name": "stdout",
          "text": [
            "you are execellent\n"
          ]
        }
      ]
    },
    {
      "cell_type": "code",
      "source": [
        "marks= 75\n",
        "co_curr= True\n",
        "if(marks>80 and co_curr==True):\n",
        "  print('you are execellent')\n",
        "else:\n",
        "  print('you are average')"
      ],
      "metadata": {
        "colab": {
          "base_uri": "https://localhost:8080/"
        },
        "id": "eL0rt0JKwB7E",
        "outputId": "fa4916da-3262-4ff7-edc2-592186f3a9b7"
      },
      "execution_count": null,
      "outputs": [
        {
          "output_type": "stream",
          "name": "stdout",
          "text": [
            "you are average\n"
          ]
        }
      ]
    },
    {
      "cell_type": "markdown",
      "source": [
        "![image.png](data:image/png;base64,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)"
      ],
      "metadata": {
        "id": "a6HgOezDxZCX"
      }
    },
    {
      "cell_type": "code",
      "source": [
        "num=8\n",
        "if num%2==0:\n",
        "  print('even')\n",
        "else:\n",
        "  print('odd')"
      ],
      "metadata": {
        "colab": {
          "base_uri": "https://localhost:8080/"
        },
        "id": "TduqAUjMWlp-",
        "outputId": "55204290-fcf7-4d2f-dd98-b9eefd7ced43"
      },
      "execution_count": null,
      "outputs": [
        {
          "output_type": "stream",
          "name": "stdout",
          "text": [
            "even\n"
          ]
        }
      ]
    },
    {
      "cell_type": "code",
      "source": [
        "#multiple conditiond\n",
        "#elif\n",
        "a=1\n",
        "if a>100:\n",
        "  print('greater')\n",
        "elif a<100:\n",
        "  print('lesser')\n",
        "else:\n",
        "  print(a)"
      ],
      "metadata": {
        "colab": {
          "base_uri": "https://localhost:8080/"
        },
        "id": "NaECEeUoWlhH",
        "outputId": "d84a1244-10f3-4753-a635-0993237e852b"
      },
      "execution_count": null,
      "outputs": [
        {
          "output_type": "stream",
          "name": "stdout",
          "text": [
            "lesser\n"
          ]
        }
      ]
    },
    {
      "cell_type": "code",
      "source": [
        "a=1000\n",
        "if a>500:\n",
        "  print('huge number')\n",
        "elif a>100:\n",
        "  print('greater')\n",
        "elif a<100:\n",
        "  print('lesser')\n",
        "else:\n",
        "  print(a)"
      ],
      "metadata": {
        "colab": {
          "base_uri": "https://localhost:8080/"
        },
        "id": "aK-qf_N4WlZT",
        "outputId": "14ff1c50-6801-4fa2-ec24-da027e53a9f7"
      },
      "execution_count": null,
      "outputs": [
        {
          "output_type": "stream",
          "name": "stdout",
          "text": [
            "huge number\n"
          ]
        }
      ]
    },
    {
      "cell_type": "code",
      "source": [
        "#nested if else\n",
        "#example\n",
        "name=input('please enter name')\n",
        "email=input('enter valid email')\n",
        "password=input('enter password')\n",
        "\n",
        "if name=='':\n",
        "  print('enter valid name')\n",
        "else:\n",
        "  if \"@\" not in email:\n",
        "    print('enter valid mail')\n",
        "  else:\n",
        "    if len(password)<4:\n",
        "      print('enter valid password')\n",
        "    else:\n",
        "        print ('successfully registered')\n"
      ],
      "metadata": {
        "colab": {
          "base_uri": "https://localhost:8080/"
        },
        "id": "6NyfJ9mDWlSb",
        "outputId": "f4b316a4-6d7f-4cec-8ed1-f4038c682aa5"
      },
      "execution_count": null,
      "outputs": [
        {
          "output_type": "stream",
          "name": "stdout",
          "text": [
            "please enter nameshubham\n",
            "enter valid emailsau@ghji\n",
            "enter passworddghyu\n",
            "successfully registered\n"
          ]
        }
      ]
    },
    {
      "cell_type": "markdown",
      "source": [
        "# **assignment concluded**"
      ],
      "metadata": {
        "id": "S1sd09UZk2xR"
      }
    },
    {
      "cell_type": "code",
      "source": [],
      "metadata": {
        "id": "_AxeJ9AFWlNu"
      },
      "execution_count": null,
      "outputs": []
    },
    {
      "cell_type": "code",
      "source": [],
      "metadata": {
        "id": "DbAN4fTdWlIk"
      },
      "execution_count": null,
      "outputs": []
    },
    {
      "cell_type": "code",
      "source": [],
      "metadata": {
        "id": "VDDybEpixa5X"
      },
      "execution_count": null,
      "outputs": []
    }
  ]
}